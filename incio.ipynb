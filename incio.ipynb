{
 "cells": [
  {
   "cell_type": "code",
   "execution_count": null,
   "metadata": {},
   "outputs": [
    {
     "name": "stdout",
     "output_type": "stream",
     "text": [
      "Olá, Amorim\n",
      " O {nome} tem {nivel} de experiencia e está no nivel {classe}\n"
     ]
    }
   ],
   "source": [
    "\n",
    "nome = input(\"Digite seu nome: \")\n",
    "print(\"Olá,\", nome)\n",
    "nivel = input(\"Qual a sua Experiancia? em numeros?\")\n",
    "nivel = int(nivel)\n",
    "classe = nivel\n",
    "if nivel <= 1000:\n",
    "    classe=\"Ferro\"\n",
    "if nivel >= 1001 and nivel <= 2000:\n",
    "    classe=\"prata\"\n",
    "if nivel >= 2001 and nivel <= 5000:\n",
    "    classe=\"ouro\"\n",
    "if nivel >= 5001 and nivel <= 8000:\n",
    "    classe=\"diamante\"\n",
    "if nivel >= 8001 and nivel <= 10000:\n",
    "        classe=\"Lendario\"\n",
    "if nivel <= 10000:\n",
    "    classe=\"Imortal\"\n",
    "\n",
    "print(f\" O {nome} tem {nivel} de experiencia e está no nivel {classe}\")"
   ]
  }
 ],
 "metadata": {
  "kernelspec": {
   "display_name": "Python 3",
   "language": "python",
   "name": "python3"
  },
  "language_info": {
   "codemirror_mode": {
    "name": "ipython",
    "version": 3
   },
   "file_extension": ".py",
   "mimetype": "text/x-python",
   "name": "python",
   "nbconvert_exporter": "python",
   "pygments_lexer": "ipython3",
   "version": "3.11.1"
  }
 },
 "nbformat": 4,
 "nbformat_minor": 2
}
